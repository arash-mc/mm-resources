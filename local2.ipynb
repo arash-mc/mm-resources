{
 "cells": [
  {
   "cell_type": "markdown",
   "metadata": {},
   "source": [
    "# 1- Importing the necessary libraries "
   ]
  },
  {
   "cell_type": "code",
   "execution_count": 7,
   "metadata": {},
   "outputs": [],
   "source": [
    "%matplotlib tk\n",
    "import gzip\n",
    "import pickle as pic\n",
    "import matplotlib.pyplot as plt\n",
    "import numpy as np\n",
    "from locread.viewer import Viewer"
   ]
  },
  {
   "cell_type": "markdown",
   "metadata": {},
   "source": [
    "# 2- Reading the simulation file"
   ]
  },
  {
   "cell_type": "code",
   "execution_count": 8,
   "metadata": {},
   "outputs": [],
   "source": [
    "file_name = 'sample_simulation.sims'\n",
    "with gzip.GzipFile(file_name, 'rb') as f:\n",
    "    output = pic.load(f)"
   ]
  },
  {
   "cell_type": "code",
   "execution_count": 10,
   "metadata": {},
   "outputs": [
    {
     "name": "stdout",
     "output_type": "stream",
     "text": [
      "dict_keys(['m'])\n"
     ]
    }
   ],
   "source": [
    "print(output['data'].keys())"
   ]
  },
  {
   "cell_type": "markdown",
   "metadata": {},
   "source": [
    "# 3- Viewing \n",
    "for viewing the next frame press \"e\" for viewing the previous frame press \"w\""
   ]
  },
  {
   "cell_type": "code",
   "execution_count": 11,
   "metadata": {},
   "outputs": [],
   "source": [
    "view = Viewer(output, 'm')\n",
    "view.show()\n",
    "view.patch_alpha = 1"
   ]
  },
  {
   "cell_type": "code",
   "execution_count": 19,
   "metadata": {},
   "outputs": [
    {
     "name": "stdout",
     "output_type": "stream",
     "text": [
      "99 0 41 28\n",
      "['28.00', '30.60', '33.20', '35.80', '38.40', '41.00']\n"
     ]
    },
    {
     "name": "stderr",
     "output_type": "stream",
     "text": [
      "d:\\viewer\\locread\\viewer.py:162: UserWarning: Use the colorbar set_ticks() method instead.\n",
      "  self.cb_ax.set_yticks(self.colorbar_ticks)\n",
      "d:\\viewer\\locread\\viewer.py:243: UserWarning: Use the colorbar set_ticks() method instead.\n",
      "  plt.xticks(new_locs, [self.x_label_format %\n",
      "d:\\viewer\\locread\\viewer.py:250: UserWarning: Use the colorbar set_ticks() method instead.\n",
      "  plt.yticks(new_locs, [self.y_label_format %\n"
     ]
    }
   ],
   "source": [
    "view.set_colormap('autumn')\n",
    "view.patch_alpha = 0.5"
   ]
  },
  {
   "cell_type": "code",
   "execution_count": 17,
   "metadata": {},
   "outputs": [],
   "source": [
    "view.fix_colorbar(view)"
   ]
  },
  {
   "cell_type": "code",
   "execution_count": 14,
   "metadata": {},
   "outputs": [],
   "source": [
    "ax = view.ax"
   ]
  },
  {
   "cell_type": "code",
   "execution_count": 15,
   "metadata": {},
   "outputs": [
    {
     "data": {
      "text/plain": [
       "Text(0.5, 94.96378472222226, 'dummy label')"
      ]
     },
     "execution_count": 15,
     "metadata": {},
     "output_type": "execute_result"
    },
    {
     "name": "stderr",
     "output_type": "stream",
     "text": [
      "d:\\viewer\\locread\\viewer.py:173: MatplotlibDeprecationWarning: Automatic legend placement (loc='best') not implemented for figure legend. Falling back on 'upper right'. This will raise an exception in 3.3.\n",
      "  self.legend = self.fig.legend([self.patch_on, self.patch_off], [self.legend_on, self.legend_off],\n"
     ]
    },
    {
     "name": "stdout",
     "output_type": "stream",
     "text": [
      "99 0 36 28\n",
      "['28.00', '29.60', '31.20', '32.80', '34.40', '36.00']\n"
     ]
    },
    {
     "name": "stderr",
     "output_type": "stream",
     "text": [
      "d:\\viewer\\locread\\viewer.py:162: UserWarning: Use the colorbar set_ticks() method instead.\n",
      "  self.cb_ax.set_yticks(self.colorbar_ticks)\n",
      "d:\\viewer\\locread\\viewer.py:243: UserWarning: Use the colorbar set_ticks() method instead.\n",
      "  plt.xticks(new_locs, [self.x_label_format %\n",
      "d:\\viewer\\locread\\viewer.py:250: UserWarning: Use the colorbar set_ticks() method instead.\n",
      "  plt.yticks(new_locs, [self.y_label_format %\n"
     ]
    },
    {
     "name": "stdout",
     "output_type": "stream",
     "text": [
      "99 0 36 28\n",
      "['28.00', '29.60', '31.20', '32.80', '34.40', '36.00']\n"
     ]
    }
   ],
   "source": [
    "ax.set_xlabel('dummy label')"
   ]
  },
  {
   "cell_type": "code",
   "execution_count": 13,
   "metadata": {},
   "outputs": [
    {
     "name": "stderr",
     "output_type": "stream",
     "text": [
      "d:\\viewer\\locread\\viewer.py:173: MatplotlibDeprecationWarning: Automatic legend placement (loc='best') not implemented for figure legend. Falling back on 'upper right'. This will raise an exception in 3.3.\n",
      "  self.legend = self.fig.legend([self.patch_on, self.patch_off], [self.legend_on, self.legend_off],\n"
     ]
    }
   ],
   "source": [
    "view.patch_alpha = 1\n",
    "view.legend_on = 'failed'\n",
    "view.legend_off= 'successful'"
   ]
  }
 ],
 "metadata": {
  "kernelspec": {
   "display_name": "Python 3",
   "language": "python",
   "name": "python3"
  },
  "language_info": {
   "codemirror_mode": {
    "name": "ipython",
    "version": 3
   },
   "file_extension": ".py",
   "mimetype": "text/x-python",
   "name": "python",
   "nbconvert_exporter": "python",
   "pygments_lexer": "ipython3",
   "version": "3.9.6"
  }
 },
 "nbformat": 4,
 "nbformat_minor": 2
}
