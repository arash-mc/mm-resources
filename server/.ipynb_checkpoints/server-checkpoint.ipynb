{
 "cells": [
  {
   "cell_type": "markdown",
   "metadata": {},
   "source": [
    "# 1- Importing the necessary libraries"
   ]
  },
  {
   "cell_type": "code",
   "execution_count": 1,
   "metadata": {},
   "outputs": [],
   "source": [
    "import os as os\n",
    "import numpy as np\n",
    "import matplotlib.pyplot as plt\n",
    "from PIL import Image,ImageOps\n",
    "import pickle as pic\n",
    "import math\n",
    "scale = 0.4"
   ]
  },
  {
   "cell_type": "markdown",
   "metadata": {},
   "source": [
    "# 2- Reading the parameters.txt"
   ]
  },
  {
   "cell_type": "code",
   "execution_count": 2,
   "metadata": {},
   "outputs": [
    {
     "name": "stdout",
     "output_type": "stream",
     "text": [
      "\n"
     ]
    }
   ],
   "source": [
    "#reading the parameters from the parameters.txt file\n",
    "sim_name = 'interlayer_1e-3_xi_alpha1_0j1.0_t1.5'\n",
    "with open(sim_name + '/parameters.txt') as f:\n",
    "    parameters = f.read()\n",
    "print()\n",
    "exec(parameters)"
   ]
  },
  {
   "cell_type": "code",
   "execution_count": 3,
   "metadata": {},
   "outputs": [
    {
     "data": {
      "text/plain": [
       "\"stage_name='complete_1_0';outer='alpha';inner='xi';frame_range=[1,194];tile_size=[100,100];folder_name='interlayer_1e-3_xi_alpha1_0j1.0_t1.5';\""
      ]
     },
     "execution_count": 3,
     "metadata": {},
     "output_type": "execute_result"
    }
   ],
   "source": [
    "parameters"
   ]
  },
  {
   "cell_type": "markdown",
   "metadata": {},
   "source": [
    "# 3- Specifiying the parameters to extract\n",
    "## NOTE: If you choose the complete set of parameters to extract, in the saving step you may run out of ram and get a dead kernell. So just specify the necessary parameters. You can do it in the second next block. Do not touch the next block. Next block is only for reference"
   ]
  },
  {
   "cell_type": "code",
   "execution_count": 4,
   "metadata": {},
   "outputs": [],
   "source": [
    "# Do not touch. Only for reference. specify the parameters in the next block\n",
    "pars = ['Aex',\n",
    "'alpha',\n",
    "'anisC1',\n",
    "'anisC2',\n",
    "'anisU',\n",
    "'B_anis',\n",
    "'B_demag',\n",
    "'B_eff',\n",
    "'B_exch',\n",
    "'B_ext',\n",
    "'B_therm',\n",
    "'Dbulk',\n",
    "'Dind',\n",
    "'Edens_anis',\n",
    "'Edens_demag',\n",
    "'Edens_exch',\n",
    "'Edens_therm',\n",
    "'Edens_total',\n",
    "'Edens_Zeeman',\n",
    "'EpsilonPrime',\n",
    "'ExchCoupling',\n",
    "'ext_topologicalchargedensity',\n",
    "'FixedLayer',\n",
    "'frozenspins',\n",
    "'geom',\n",
    "'J',\n",
    "'Kc1',\n",
    "'Kc2',\n",
    "'Kc3',\n",
    "'Ku1',\n",
    "'Ku2',\n",
    "'Lambda',\n",
    "'LLtorque',\n",
    "'m',\n",
    "'m_full',\n",
    "'MFM',\n",
    "'Msat',\n",
    "'regions',\n",
    "'spinAngle',\n",
    "'STTorque',\n",
    "'torque'];"
   ]
  },
  {
   "cell_type": "markdown",
   "metadata": {},
   "source": [
    "## Specify parameters in this block"
   ]
  },
  {
   "cell_type": "code",
   "execution_count": 5,
   "metadata": {},
   "outputs": [],
   "source": [
    "pars = ['m']"
   ]
  },
  {
   "cell_type": "markdown",
   "metadata": {},
   "source": [
    "# 4- Data preparation and function definition"
   ]
  },
  {
   "cell_type": "code",
   "execution_count": 6,
   "metadata": {},
   "outputs": [],
   "source": [
    "os.chdir(sim_name)\n",
    "stage_name += '.out'# This is the name of your simulations\n",
    "outer_dirs = [x for x in os.listdir() if os.path.isdir(x) and '=' in x]\n",
    "inner_dirs = [x for x in os.listdir(outer_dirs[0]) if\n",
    "             os.path.isdir(outer_dirs[0] + '/' + x) and '=' in x]\n",
    "f = lambda x: np.double(x.split('=')[1])\n",
    "inner_dirs = sorted(inner_dirs , key = f)\n",
    "outer_dirs = sorted(outer_dirs , key = f)\n",
    "inner_values = [f(x) for x in inner_dirs]\n",
    "outer_values = [f(x) for x in outer_dirs]\n",
    "parameters_dict = {'stage_name':stage_name, 'outer':outer, 'inner':inner,\n",
    "             'outer_values':outer_values, 'inner_values':inner_values}"
   ]
  },
  {
   "cell_type": "code",
   "execution_count": 7,
   "metadata": {},
   "outputs": [],
   "source": [
    "def return_one_image():\n",
    "    lists = os.walk('.')\n",
    "    for a,b,c in lists:\n",
    "        for item in c:\n",
    "            if '.jpg' in item:\n",
    "                return(a+'/' + item)"
   ]
  },
  {
   "cell_type": "code",
   "execution_count": 8,
   "metadata": {},
   "outputs": [],
   "source": [
    "def single_image(par, frame_number, inner_dirs, outer_dirs, image_shape,flip=1,scale=1):\n",
    "    l_inner = len(inner_dirs)\n",
    "    l_outer = len(outer_dirs)\n",
    "    Rs = image_shape[0]\n",
    "    Cs = image_shape[1]\n",
    "    big_image_dimensions = [Rs*(l_outer), Cs*l_inner , 3]\n",
    "    big_image = np.uint8(np.zeros(big_image_dimensions))\n",
    "    im_non = np.uint8(np.zeros(image_shape))\n",
    "    image_indices = list()\n",
    "    images = list()\n",
    "    row = 0\n",
    "    for outer_dir in outer_dirs:\n",
    "        column = 0;\n",
    "        exec(outer_dir)\n",
    "        for inner_dir in inner_dirs:\n",
    "            exec(inner_dir)\n",
    "            try:\n",
    "                img_name = outer_dir + '/' + inner_dir + '/' + stage_name + '/' + par +'%06d'%frame_number+'.jpg'\n",
    "                im = Image.open(img_name)\n",
    "                if flip ==1:\n",
    "                    im = ImageOps.flip(im)\n",
    "                im = np.array(im)\n",
    "            except:\n",
    "                im = im_non\n",
    "            big_image[row*Rs:(row + 1)*Rs, \n",
    "                 column*Cs:(column + 1)*Cs, \n",
    "                 :] = im\n",
    "            column +=1\n",
    "        row += 1\n",
    "    big_image = Image.fromarray(big_image)\n",
    "    big_image = ImageOps.scale(big_image,scale)\n",
    "    big_image = np.array(big_image)\n",
    "    return big_image"
   ]
  },
  {
   "cell_type": "code",
   "execution_count": 9,
   "metadata": {},
   "outputs": [],
   "source": [
    "sample_image= return_one_image() #extracting single image for reference\n",
    "img = np.array(Image.open(sample_image))\n",
    "image_shape = img.shape"
   ]
  },
  {
   "cell_type": "markdown",
   "metadata": {},
   "source": [
    "# 5- Data extraction"
   ]
  },
  {
   "cell_type": "code",
   "execution_count": 10,
   "metadata": {},
   "outputs": [
    {
     "name": "stdout",
     "output_type": "stream",
     "text": [
      "m\n",
      "1\n",
      "2\n",
      "3\n",
      "4\n",
      "5\n",
      "6\n",
      "7\n",
      "8\n",
      "9\n",
      "10\n",
      "11\n",
      "12\n",
      "13\n",
      "14\n",
      "15\n",
      "16\n",
      "17\n",
      "18\n",
      "19\n",
      "20\n",
      "21\n",
      "22\n",
      "23\n",
      "24\n",
      "25\n",
      "26\n",
      "27\n",
      "28\n",
      "29\n",
      "30\n",
      "31\n",
      "32\n",
      "33\n",
      "34\n",
      "35\n",
      "36\n",
      "37\n",
      "38\n",
      "39\n",
      "40\n",
      "41\n",
      "42\n",
      "43\n",
      "44\n",
      "45\n",
      "46\n",
      "47\n",
      "48\n",
      "49\n",
      "50\n",
      "51\n",
      "52\n",
      "53\n",
      "54\n",
      "55\n",
      "56\n",
      "57\n",
      "58\n",
      "59\n",
      "60\n",
      "61\n",
      "62\n",
      "63\n",
      "64\n",
      "65\n",
      "66\n",
      "67\n",
      "68\n",
      "69\n",
      "70\n",
      "71\n",
      "72\n",
      "73\n",
      "74\n",
      "75\n",
      "76\n",
      "77\n",
      "78\n",
      "79\n",
      "80\n",
      "81\n",
      "82\n",
      "83\n",
      "84\n",
      "85\n",
      "86\n",
      "87\n",
      "88\n",
      "89\n",
      "90\n",
      "91\n",
      "92\n",
      "93\n",
      "94\n",
      "95\n",
      "96\n",
      "97\n",
      "98\n",
      "99\n",
      "100\n",
      "101\n",
      "102\n",
      "103\n",
      "104\n",
      "105\n",
      "106\n",
      "107\n",
      "108\n",
      "109\n",
      "110\n",
      "111\n",
      "112\n",
      "113\n",
      "114\n",
      "115\n",
      "116\n",
      "117\n",
      "118\n",
      "119\n",
      "120\n",
      "121\n",
      "122\n",
      "123\n",
      "124\n",
      "125\n",
      "126\n",
      "127\n",
      "128\n",
      "129\n",
      "130\n",
      "131\n",
      "132\n",
      "133\n",
      "134\n",
      "135\n",
      "136\n",
      "137\n",
      "138\n",
      "139\n",
      "140\n",
      "141\n",
      "142\n",
      "143\n",
      "144\n",
      "145\n",
      "146\n",
      "147\n",
      "148\n",
      "149\n",
      "150\n",
      "151\n",
      "152\n",
      "153\n",
      "154\n",
      "155\n",
      "156\n",
      "157\n",
      "158\n",
      "159\n",
      "160\n",
      "161\n",
      "162\n",
      "163\n",
      "164\n",
      "165\n",
      "166\n",
      "167\n",
      "168\n",
      "169\n",
      "170\n",
      "171\n",
      "172\n",
      "173\n",
      "174\n",
      "175\n",
      "176\n",
      "177\n",
      "178\n",
      "179\n",
      "180\n",
      "181\n",
      "182\n",
      "183\n",
      "184\n",
      "185\n",
      "186\n",
      "187\n",
      "188\n",
      "189\n",
      "190\n",
      "191\n",
      "192\n",
      "193\n",
      "194\n"
     ]
    }
   ],
   "source": [
    "total_frames = list()\n",
    "for par in pars:\n",
    "    print(par)\n",
    "    frames = list()\n",
    "    for frame_no in range(frame_range[0] , frame_range[1] + 1):\n",
    "        one_frame = single_image(par, frame_no, inner_dirs, outer_dirs, image_shape,scale = scale)\n",
    "        print(frame_no)# remove this line if the output is annoying. this prints out the extracted frame number\n",
    "        frames.append(one_frame)\n",
    "    total_frames.append(frames)"
   ]
  },
  {
   "cell_type": "code",
   "execution_count": 11,
   "metadata": {},
   "outputs": [],
   "source": [
    "output = {'data': dict(zip(pars , total_frames)) , 'parameters':parameters_dict}"
   ]
  },
  {
   "cell_type": "markdown",
   "metadata": {},
   "source": [
    "# 6-saving"
   ]
  },
  {
   "cell_type": "code",
   "execution_count": 12,
   "metadata": {},
   "outputs": [],
   "source": [
    "import gzip\n",
    "file_name = folder_name +'.sims' #you can change this to whatever you want. but it's better if you don't change the extention i.e. '.sims'\n",
    "with gzip.GzipFile(file_name, 'w') as f:\n",
    "    pic.dump(output ,f)"
   ]
  },
  {
   "cell_type": "code",
   "execution_count": null,
   "metadata": {},
   "outputs": [],
   "source": []
  }
 ],
 "metadata": {
  "kernelspec": {
   "display_name": "Python 3",
   "language": "python",
   "name": "python3"
  },
  "language_info": {
   "codemirror_mode": {
    "name": "ipython",
    "version": 3
   },
   "file_extension": ".py",
   "mimetype": "text/x-python",
   "name": "python",
   "nbconvert_exporter": "python",
   "pygments_lexer": "ipython3",
   "version": "3.9.6"
  }
 },
 "nbformat": 4,
 "nbformat_minor": 2
}
