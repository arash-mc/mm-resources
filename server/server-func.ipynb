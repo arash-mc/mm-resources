{
 "cells": [
  {
   "cell_type": "markdown",
   "metadata": {},
   "source": [
    "# 1- Importing the necessary libraries"
   ]
  },
  {
   "cell_type": "code",
   "execution_count": 46,
   "metadata": {},
   "outputs": [],
   "source": [
    "import os as os\n",
    "import numpy as np\n",
    "import pickle as pic\n",
    "import math\n",
    "import pandas as pd"
   ]
  },
  {
   "cell_type": "markdown",
   "metadata": {},
   "source": [
    "# 2- Reading the parameters.txt"
   ]
  },
  {
   "cell_type": "code",
   "execution_count": 2,
   "metadata": {},
   "outputs": [
    {
     "name": "stdout",
     "output_type": "stream",
     "text": [
      "\n"
     ]
    }
   ],
   "source": [
    "#reading the parameters from the parameters.txt file\n",
    "sim_name = 'Msat_Dind_5_5'\n",
    "with open(sim_name + '/parameters.txt') as f:\n",
    "    parameters = f.read()\n",
    "print()\n",
    "exec(parameters)"
   ]
  },
  {
   "cell_type": "markdown",
   "metadata": {},
   "source": [
    "# 3- Data preparation and function definition"
   ]
  },
  {
   "cell_type": "code",
   "execution_count": 4,
   "metadata": {},
   "outputs": [],
   "source": [
    "os.chdir(sim_name)\n",
    "stage_name += '.out'# This is the name of your simulations\n",
    "outer_dirs = [x for x in os.listdir() if os.path.isdir(x) and '=' in x]\n",
    "inner_dirs = [x for x in os.listdir(outer_dirs[0]) if\n",
    "             os.path.isdir(outer_dirs[0] + '/' + x) and '=' in x]\n",
    "f = lambda x: np.double(x.split('=')[1])\n",
    "inner_dirs = sorted(inner_dirs , key = f)\n",
    "outer_dirs = sorted(outer_dirs , key = f)\n",
    "inner_values = [f(x) for x in inner_dirs]\n",
    "outer_values = [f(x) for x in outer_dirs]\n",
    "parameters_dict = {'stage_name':stage_name, 'outer':outer, 'inner':inner,\n",
    "             'outer_values':outer_values, 'inner_values':inner_values}"
   ]
  },
  {
   "cell_type": "code",
   "execution_count": 6,
   "metadata": {},
   "outputs": [],
   "source": [
    "def make_list_of_nones(nx, ny):\n",
    "    l = list()\n",
    "    for i in range(ny):\n",
    "        l.append(list())\n",
    "        for j in range(nx):\n",
    "            l[i].append(None)\n",
    "    return l"
   ]
  },
  {
   "cell_type": "code",
   "execution_count": 60,
   "metadata": {},
   "outputs": [],
   "source": [
    "def energy(total_energy, n=1000, begin_size=100, end_size=1000, delete=10):\n",
    "    E = total_energy[delete:]\n",
    "    window = np.ones(n)/n\n",
    "    E_mav = np.convolve(E, window, 'valid')\n",
    "    return np.mean(E_mav[-end_size:-1])-np.mean(E_mav[0:begin_size])\n",
    "\n",
    "def function_on_table(table):\n",
    "    E= pd.read_table(table, usecols=['E_total (J)'])['E_total (J)']\n",
    "#     print(len(E))\n",
    "    return energy(E, n=2, begin_size=100, end_size=100, delete=10)"
   ]
  },
  {
   "cell_type": "code",
   "execution_count": 61,
   "metadata": {},
   "outputs": [
    {
     "name": "stdout",
     "output_type": "stream",
     "text": [
      "1700002\n",
      "1700002\n",
      "922945\n",
      "1700002\n",
      "1700002\n",
      "1700002\n",
      "1700002\n",
      "1700002\n",
      "1700002\n",
      "1700002\n",
      "1700002\n",
      "1700002\n",
      "1700002\n",
      "924654\n",
      "1700002\n",
      "1700002\n",
      "1700002\n",
      "1700002\n",
      "1700002\n",
      "1700002\n",
      "1700002\n",
      "1700002\n",
      "1700002\n",
      "919595\n",
      "1700002\n"
     ]
    }
   ],
   "source": [
    "phase_diagramn = make_list_of_nones(len(inner_dirs), len(outer_dirs))\n",
    "for o_index, outer_dir in enumerate(outer_dirs):\n",
    "    for i_index, inner_dir in enumerate(inner_dirs):\n",
    "        table = f'{outer_dir}/{inner_dir}/{stage_name}/table.txt'\n",
    "        phase_diagramn[o_index][i_index] = function_on_table(table)"
   ]
  },
  {
   "cell_type": "code",
   "execution_count": 62,
   "metadata": {},
   "outputs": [
    {
     "data": {
      "text/plain": [
       "[[-1.020202069396851e-26,\n",
       "  -1.0149494976077073e-24,\n",
       "  2.181075200000019e-19,\n",
       "  -2.9610166475757597e-18,\n",
       "  -9.127240612878795e-18],\n",
       " [5.1212119654313175e-26,\n",
       "  0.0,\n",
       "  2.1558333858585943e-19,\n",
       "  -2.932261248383829e-18,\n",
       "  -9.073630212828277e-18],\n",
       " [1.6787879270946988e-25,\n",
       "  2.866666634349593e-25,\n",
       "  1.6035546121211344e-19,\n",
       "  -3.2845631708080734e-18,\n",
       "  -9.672966868181814e-18],\n",
       " [-1.998129882323139e-21,\n",
       "  -1.756030858535353e-19,\n",
       "  -1.0217257323233642e-20,\n",
       "  -6.014407669696941e-20,\n",
       "  -3.883094681817365e-20],\n",
       " [-4.753137373710209e-23,\n",
       "  -4.687775757599576e-23,\n",
       "  -4.636807070713927e-23,\n",
       "  -5.0127717171480397e-23,\n",
       "  -5.0401898990199006e-23]]"
      ]
     },
     "execution_count": 62,
     "metadata": {},
     "output_type": "execute_result"
    }
   ],
   "source": [
    "phase_diagramn"
   ]
  }
 ],
 "metadata": {
  "kernelspec": {
   "display_name": "Python 3",
   "language": "python",
   "name": "python3"
  },
  "language_info": {
   "codemirror_mode": {
    "name": "ipython",
    "version": 3
   },
   "file_extension": ".py",
   "mimetype": "text/x-python",
   "name": "python",
   "nbconvert_exporter": "python",
   "pygments_lexer": "ipython3",
   "version": "3.6.4"
  }
 },
 "nbformat": 4,
 "nbformat_minor": 2
}
